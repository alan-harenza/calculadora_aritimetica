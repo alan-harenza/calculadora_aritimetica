{
 "cells": [
  {
   "cell_type": "markdown",
   "metadata": {},
   "source": [
    "Notebook para testes de aplicação do script"
   ]
  },
  {
   "cell_type": "markdown",
   "metadata": {},
   "source": [
    "Situations that will return an error:\n",
    "* If there are too many problems supplied to the function. The limit is five,\\\n",
    "anything more will return: 'Error: Too many problems.'\n",
    "* The appropriate operators the function will accept are addition and subtraction.\\\n",
    "Multiplication and division will return an error. Other operators not mentioned in\\\n",
    "this bullet point will not need to be tested.\\\n",
    "The error returned will be: \"Error: Operator must be '+' or '-'.\"\n",
    "* Each number (operand) should only contain digits. Otherwise, the function will\\\n",
    "return: 'Error: Numbers must only contain digits.'\n",
    "* Each operand (aka number on each side of the operator) has a max of four digits\\\n",
    "in width. Otherwise, the error string returned\\\n",
    "will be: 'Error: Numbers cannot be more than four digits.'\n",
    "* If the user supplied the correct format of problems, the\\\n",
    "conversion you return will follow these rules:\\\n",
    "There should be a single space between the operator and the longest of the two operands,\\\n",
    "the operator will be on the same line as the second operand, both operands will be in the\\\n",
    "same order as provided (the first will be the top one and the second will be the bottom).\n",
    "* Numbers should be right-aligned.\n",
    "* There should be four spaces between each problem.\n",
    "* There should be dashes at the bottom of each problem. The dashes should run along the entire\\\n",
    "length of each problem individually. (The example above shows what this should look like.)"
   ]
  },
  {
   "cell_type": "markdown",
   "metadata": {},
   "source": [
    "Lista a ser usada pela funcao"
   ]
  },
  {
   "cell_type": "code",
   "execution_count": null,
   "metadata": {},
   "outputs": [],
   "source": [
    "# problems = ['1000 + 5']\n",
    "# problems = ['1000 + 5', '13 + 8']\n",
    "# problems = ['10000 + 5', '13 + 8', '100 + 27']\n",
    "# problems = ['32 + 698', '3801 + 2', '45 + 43', '123 + 49']\n",
    "# problems = ['1000 + 5', '13 + 8', '100 + 27', 'ahahahah + 340', '1007 - 40']\n",
    "# problems = ['999 + 5387', '399 - 123', '13 - 2700', '9000 + 340', '1007 - 4000']\n",
    "# problems = ['1000 + 5', '13 + 8', '100 + 27', 'ahahahah + 340', '1007 - 40', '1000 - 98']"
   ]
  },
  {
   "cell_type": "code",
   "execution_count": 16,
   "metadata": {},
   "outputs": [],
   "source": [
    "if len(problems) > 5:\n",
    "    print('Error: Too many problems')\n",
    "    quit"
   ]
  },
  {
   "cell_type": "code",
   "execution_count": 17,
   "metadata": {},
   "outputs": [],
   "source": [
    "for problem in problems:\n",
    "    operator_list = ['+', '-']\n",
    "    separation = problem.split()\n",
    "    if separation[1] not in operator_list:\n",
    "        print(\"Error: Operator must be '+' or '-'.\")"
   ]
  },
  {
   "cell_type": "code",
   "execution_count": 18,
   "metadata": {},
   "outputs": [],
   "source": [
    "for problem in problems:\n",
    "    separation = problem.split()\n",
    "    if not separation[0].isnumeric() or not separation[2].isnumeric():\n",
    "        print('Error: Numbers must only contain digits.')\n",
    "        quit"
   ]
  },
  {
   "cell_type": "code",
   "execution_count": 19,
   "metadata": {},
   "outputs": [],
   "source": [
    "for problem in problems:\n",
    "    separation = problem.split()\n",
    "    if len(separation[0]) >=5 or len(separation[2]) >= 5:\n",
    "        print('Error: Numbers cannot be more than four digits.')"
   ]
  },
  {
   "cell_type": "code",
   "execution_count": 20,
   "metadata": {},
   "outputs": [
    {
     "name": "stdout",
     "output_type": "stream",
     "text": [
      "       999      399        13      9000      1007\n",
      "    + 5387    - 123    - 2700    +  340    - 4000\n",
      "    ------    -----    ------    ------    ------\n",
      "      6386      276     -2687      9340     -2993\n"
     ]
    }
   ],
   "source": [
    "resultado = ''\n",
    "primeira_linha = ''\n",
    "segunda_linha = ''\n",
    "linha_pontilhada = ''\n",
    "linha_resultados = ''\n",
    "resultado = ''\n",
    "\n",
    "for problem in problems:\n",
    "    separation = problem.split()\n",
    "    if separation[1]== '+':\n",
    "        operation_result = str(int(separation[0]) + int(separation[2]))\n",
    "        if len(separation[0]) > len(separation[2]):\n",
    "            primeira_linha += 4*' '+2*' ' + separation[0].rjust(2)\n",
    "            segunda_linha += 4*' ' + separation[1] + ' ' + separation[2].rjust(len(separation[0]))\n",
    "            linha_pontilhada += 4*' '+(2+len(separation[0])) * '-'\n",
    "            linha_resultados += 4*' ' + operation_result.rjust(2+len(separation[0]))\n",
    "\n",
    "        elif len(separation[0]) == len(separation[2]):\n",
    "            primeira_linha += 4*' '+2*' ' + separation[0].rjust(2)\n",
    "            segunda_linha += 4*' ' + separation[1] + ' ' + separation[2].rjust(2)\n",
    "            linha_pontilhada += 4*' '+(2+len(separation[0])) * '-'\n",
    "            linha_resultados += 4*' ' + operation_result.rjust(2+len(separation[0]))\n",
    "\n",
    "        else:\n",
    "            primeira_linha += 4*' '+ 2*' ' + separation[0].rjust(len(separation[2]))\n",
    "            segunda_linha += 4*' ' + separation[1] + ' ' + separation[2].rjust(2)\n",
    "            linha_pontilhada += 4*' '+(2+len(separation[2])) * '-'\n",
    "            linha_resultados += ' ' + operation_result.rjust(5+len(separation[2]))\n",
    "\n",
    "    else:\n",
    "        operation_result = str(int(separation[0]) - int(separation[2]))\n",
    "        if len(separation[0]) > len(separation[2]):\n",
    "            primeira_linha += 4*' ' + 2*' ' + separation[0].rjust(2)\n",
    "            segunda_linha += 4*' ' + separation[1] + ' ' + separation[2].rjust(len(separation[0]))\n",
    "            linha_pontilhada += 4*' '+(2+len(separation[0])) * '-'\n",
    "            linha_resultados += 4*' ' + operation_result.rjust(2+len(separation[0]))\n",
    "\n",
    "        elif len(separation[0]) == len(separation[2]):\n",
    "            primeira_linha += 4*' '+2*' ' + separation[0].rjust(2)\n",
    "            segunda_linha += 4*' ' + separation[1] + ' ' + separation[2].rjust(2)\n",
    "            linha_pontilhada += 4*' '+(2+len(separation[2])) * '-'\n",
    "            linha_resultados += 4*' ' + operation_result.rjust(2+len(separation[0]))\n",
    "\n",
    "        else:\n",
    "            primeira_linha += 4*' '+2*' ' + separation[0].rjust(len(separation[2]))\n",
    "            segunda_linha += 4*' ' + separation[1] + ' ' + separation[2].rjust(2)\n",
    "            linha_pontilhada += 4*' '+(2+len(separation[2])) * '-'\n",
    "            linha_resultados += 4*' ' + operation_result.rjust(2+len(separation[2]))\n",
    "\n",
    "    resultado = (primeira_linha + '\\n' + segunda_linha + '\\n' + linha_pontilhada + '\\n' + linha_resultados)\n",
    "\n",
    "print(resultado)"
   ]
  },
  {
   "cell_type": "code",
   "execution_count": 21,
   "metadata": {},
   "outputs": [
    {
     "name": "stdout",
     "output_type": "stream",
     "text": [
      "    999      399        13      9000      1007\n",
      " + 5387    - 123    - 2700    +  340    - 4000\n",
      " ------    -----    ------    ------    ------\n",
      "   6386      276     -2687      9340     -2993\n"
     ]
    }
   ],
   "source": [
    "resultado = ''\n",
    "primeira_linha = ''\n",
    "segunda_linha = ''\n",
    "linha_pontilhada = ''\n",
    "linha_resultados = ''\n",
    "resultado = ''\n",
    "\n",
    "for problem in problems:\n",
    "    separation = problem.split()\n",
    "\n",
    "    if separation[1]== '+':\n",
    "        operation_result = str(int(separation[0]) + int(separation[2]))\n",
    "        middle_space = ' '\n",
    "    else:\n",
    "        operation_result = str(int(separation[0]) - int(separation[2]))\n",
    "        middle_space = ' '\n",
    "    \n",
    "    if resultado == '':\n",
    "        initial_space = ' '\n",
    "    else:\n",
    "        initial_space = 4*' '\n",
    "\n",
    "    if len(separation[0]) > len(separation[2]):\n",
    "        primeira_linha += initial_space + 2*' ' + separation[0].rjust(2)\n",
    "        segunda_linha += initial_space + separation[1] + ' ' + separation[2].rjust(len(separation[0]))\n",
    "        linha_pontilhada += initial_space +(2+len(separation[0])) * '-'\n",
    "        linha_resultados += initial_space + middle_space +operation_result.rjust(1 + len(separation[0]))\n",
    "\n",
    "    elif len(separation[0]) == len(separation[2]):\n",
    "        primeira_linha += initial_space + 2*' ' + separation[0].rjust(2)\n",
    "        segunda_linha += initial_space + separation[1] + ' ' + separation[2].rjust(2)\n",
    "        linha_pontilhada += initial_space + (2+len(separation[0])) * '-'\n",
    "        linha_resultados += initial_space + middle_space +operation_result.rjust(1+ len(separation[0]))\n",
    "\n",
    "    else:\n",
    "        primeira_linha += initial_space + 2*' ' + separation[0].rjust(len(separation[2]))\n",
    "        segunda_linha += initial_space + separation[1] + ' ' + separation[2].rjust(2)\n",
    "        linha_pontilhada += initial_space + (2+len(separation[2])) * '-'\n",
    "        linha_resultados += initial_space + middle_space +operation_result.rjust(1+ len(separation[2]))\n",
    "\n",
    "    resultado = (primeira_linha + '\\n' + segunda_linha + '\\n' + linha_pontilhada + '\\n' + linha_resultados)\n",
    "\n",
    "print(resultado)"
   ]
  },
  {
   "cell_type": "code",
   "execution_count": null,
   "metadata": {},
   "outputs": [],
   "source": []
  }
 ],
 "metadata": {
  "kernelspec": {
   "display_name": "Python 3",
   "language": "python",
   "name": "python3"
  },
  "language_info": {
   "codemirror_mode": {
    "name": "ipython",
    "version": 3
   },
   "file_extension": ".py",
   "mimetype": "text/x-python",
   "name": "python",
   "nbconvert_exporter": "python",
   "pygments_lexer": "ipython3",
   "version": "3.13.2"
  }
 },
 "nbformat": 4,
 "nbformat_minor": 2
}
