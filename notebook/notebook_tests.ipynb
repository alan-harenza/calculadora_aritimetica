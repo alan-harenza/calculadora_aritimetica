{
 "cells": [
  {
   "cell_type": "markdown",
   "metadata": {},
   "source": [
    "Notebook para testes de aplicação do script"
   ]
  },
  {
   "cell_type": "markdown",
   "metadata": {},
   "source": [
    "Situations that will return an error:\n",
    "* If there are too many problems supplied to the function. The limit is five,\\\n",
    "anything more will return: 'Error: Too many problems.'\n",
    "* The appropriate operators the function will accept are addition and subtraction.\\\n",
    "Multiplication and division will return an error. Other operators not mentioned in\\\n",
    "this bullet point will not need to be tested.\\\n",
    "The error returned will be: \"Error: Operator must be '+' or '-'.\"\n",
    "* Each number (operand) should only contain digits. Otherwise, the function will\\\n",
    "return: 'Error: Numbers must only contain digits.'\n",
    "* Each operand (aka number on each side of the operator) has a max of four digits\\\n",
    "in width. Otherwise, the error string returned\\\n",
    "will be: 'Error: Numbers cannot be more than four digits.'\n",
    "* If the user supplied the correct format of problems, the\\\n",
    "conversion you return will follow these rules:\\\n",
    "There should be a single space between the operator and the longest of the two operands,\\\n",
    "the operator will be on the same line as the second operand, both operands will be in the\\\n",
    "same order as provided (the first will be the top one and the second will be the bottom).\n",
    "* Numbers should be right-aligned.\n",
    "* There should be four spaces between each problem.\n",
    "* There should be dashes at the bottom of each problem. The dashes should run along the entire\\\n",
    "length of each problem individually. (The example above shows what this should look like.)"
   ]
  },
  {
   "cell_type": "markdown",
   "metadata": {},
   "source": [
    "Lista a ser usada pela funcao"
   ]
  },
  {
   "cell_type": "code",
   "execution_count": 1,
   "metadata": {},
   "outputs": [],
   "source": [
    "problems = ['1000 + 5']\n",
    "# problems = ['1000 + 5', '13 + 8']\n",
    "# problems = ['10000 + 5', '13 + 8', '100 + 27']\n",
    "# problems = ['1000 + 5', '13 + 8', '100 + 27', '1567 * 340']\n",
    "# problems = ['1000 + 5', '13 + 8', '100 + 27', 'ahahahah + 340', '1007 - 40']\n",
    "# problems = ['1000 + 5', '13 + 8', '100 + 27', '1567 + 340', '1007 - 40', '1000 - 98']"
   ]
  },
  {
   "cell_type": "code",
   "execution_count": 2,
   "metadata": {},
   "outputs": [],
   "source": [
    "if len(problems) > 5:\n",
    "    print('Error: Too many problems')\n",
    "    quit"
   ]
  },
  {
   "cell_type": "code",
   "execution_count": 3,
   "metadata": {},
   "outputs": [],
   "source": [
    "for problem in problems:\n",
    "    operator_list = ['+', '-']\n",
    "    separation = problem.split()\n",
    "    if separation[1] not in operator_list:\n",
    "        print(\"Error: Operator must be '+' or '-'.\")"
   ]
  },
  {
   "cell_type": "code",
   "execution_count": 4,
   "metadata": {},
   "outputs": [],
   "source": [
    "for problem in problems:\n",
    "    separation = problem.split()\n",
    "    if not separation[0].isnumeric() or not separation[2].isnumeric():\n",
    "        print('Error: Numbers must only contain digits.')\n",
    "        quit"
   ]
  },
  {
   "cell_type": "code",
   "execution_count": 5,
   "metadata": {},
   "outputs": [],
   "source": [
    "for problem in problems:\n",
    "    separation = problem.split()\n",
    "    if len(separation[0]) >=5 or len(separation[2]) >= 5:\n",
    "        print('Error: Numbers cannot be more than four digits.')"
   ]
  },
  {
   "cell_type": "code",
   "execution_count": null,
   "metadata": {},
   "outputs": [
    {
     "name": "stdout",
     "output_type": "stream",
     "text": [
      "caminho soma\n",
      "caminho primeiro numero maior\n"
     ]
    }
   ],
   "source": [
    "lista_valores = []\n",
    "for problem in problems:\n",
    "    separation = problem.split()\n",
    "    if separation[1]== '+':\n",
    "        print('caminho soma')\n",
    "        if len(separation[0]) > len(separation[2]):\n",
    "            print('caminho primeiro numero maior')\n",
    "\n",
    "        elif len(separation[0]) == len(separation[2]):\n",
    "            print('caminho tamanho dos numeros iguais')\n",
    "\n",
    "        else:\n",
    "            print('caminho segundo numero maior')\n",
    "    else:\n",
    "        print('caminho subtração')\n",
    "        if len(separation[0]) > len(separation[2]):\n",
    "            print('caminho primeiro numero maior')\n",
    "\n",
    "        elif len(separation[0]) == len(separation[2]):\n",
    "            print('caminho tamanho dos numeros iguais')\n",
    "\n",
    "        else:\n",
    "            print('caminho segundo numero maior')"
   ]
  },
  {
   "cell_type": "code",
   "execution_count": null,
   "metadata": {},
   "outputs": [],
   "source": []
  }
 ],
 "metadata": {
  "kernelspec": {
   "display_name": "Python 3",
   "language": "python",
   "name": "python3"
  },
  "language_info": {
   "codemirror_mode": {
    "name": "ipython",
    "version": 3
   },
   "file_extension": ".py",
   "mimetype": "text/x-python",
   "name": "python",
   "nbconvert_exporter": "python",
   "pygments_lexer": "ipython3",
   "version": "3.13.1"
  }
 },
 "nbformat": 4,
 "nbformat_minor": 2
}
